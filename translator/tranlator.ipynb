{
 "cells": [
  {
   "cell_type": "code",
   "execution_count": 15,
   "metadata": {},
   "outputs": [],
   "source": [
    "import tensorflow as tf\n",
    "import numpy as np\n",
    "import pandas as pd\n",
    "import time\n",
    "from tensorflow.keras.models import Model\n",
    "from tensorflow.keras.layers import Input, Embedding, Dense, GRU"
   ]
  },
  {
   "cell_type": "code",
   "execution_count": 16,
   "metadata": {},
   "outputs": [],
   "source": [
    "data_path = 'cmn.txt'\n",
    "NUM_SAMPLES = 10000"
   ]
  },
  {
   "cell_type": "code",
   "execution_count": 17,
   "metadata": {},
   "outputs": [],
   "source": [
    "df = pd.read_table(data_path,header=None).iloc[:NUM_SAMPLES,:,]\n",
    "df.columns=['english','chinese']\n",
    "df['english'] = df['english'].apply(lambda x: '\\t'+x+'\\n') # add \\t and \\n as bos and eos symbol\n",
    "\n",
    "English_texts = df.english.values.tolist()\n",
    "Chinese_texts = df.chinese.values.tolist()\n",
    "\n",
    "English_corpus = sorted(list(set(df.english.unique().sum())))\n",
    "Chinese_corpus = sorted(list(set(df.chinese.unique().sum())))"
   ]
  },
  {
   "cell_type": "code",
   "execution_count": 18,
   "metadata": {},
   "outputs": [],
   "source": [
    "input_dict = {char:index for index,char in enumerate(Chinese_corpus)}\n",
    "input_dict_reverse = {index:char for index,char in enumerate(Chinese_corpus)}\n",
    "target_dict = {char:index for index,char in enumerate(English_corpus)}\n",
    "target_dict_reverse = {index:char for index,char in enumerate(English_corpus)}"
   ]
  },
  {
   "cell_type": "code",
   "execution_count": 19,
   "metadata": {},
   "outputs": [],
   "source": [
    "IN_LEN = max([len(i) for i in Chinese_texts])\n",
    "OUT_LEN = max([len(i) for i in English_texts])\n",
    "INPUT_DICTSIZE = len(Chinese_corpus)\n",
    "OUTPUT_DICTSIZE = len(English_corpus)\n",
    "N_unit = 256\n",
    "BatchSize = 64\n",
    "EmbedSize = 128"
   ]
  },
  {
   "cell_type": "code",
   "execution_count": 20,
   "metadata": {},
   "outputs": [],
   "source": [
    "# define encoder\n",
    "\n",
    "def create_encoder(inputdim, inputlen, n_units):\n",
    "    \n",
    "    encoder_input = Input((inputlen,inputdim,))\n",
    "    encoder = GRU(n_units, return_state = True)\n",
    "    _, encoder_state = encoder(encoder_input)\n",
    "    \n",
    "    encoder=Model(encoder_input, encoder_state)\n",
    "    \n",
    "    return encoder"
   ]
  },
  {
   "cell_type": "code",
   "execution_count": 21,
   "metadata": {},
   "outputs": [],
   "source": [
    "# define decoder. notice that this model a little bit different with training model\n",
    "\n",
    "def create_decoder(inputdim,inputlen, n_units):\n",
    "    # input of answers\n",
    "    decoder_input = Input((1,inputdim,))\n",
    "    # input of encoder state vectors\n",
    "    initial_state = Input((n_units,))\n",
    "    decoder = GRU(n_units, return_sequences = True, return_state = True)\n",
    "    # the state we dont need in training model\n",
    "    decoder_output,decoder_state = decoder(decoder_input,initial_state = initial_state)\n",
    "    decoder_dense = Dense(inputdim, activation = 'softmax')\n",
    "    decoder_output_ = decoder_dense(decoder_output)\n",
    "    \n",
    "    decoder=Model([decoder_input,initial_state],[decoder_output_,decoder_state])\n",
    "    \n",
    "    return decoder"
   ]
  },
  {
   "cell_type": "code",
   "execution_count": 22,
   "metadata": {},
   "outputs": [],
   "source": [
    "encoder=create_encoder(INPUT_DICTSIZE,IN_LEN,N_unit)"
   ]
  },
  {
   "cell_type": "code",
   "execution_count": 23,
   "metadata": {},
   "outputs": [],
   "source": [
    "encoder.load_weights('./data/gru_enc_test.h5')"
   ]
  },
  {
   "cell_type": "code",
   "execution_count": 24,
   "metadata": {},
   "outputs": [],
   "source": [
    "decoder=create_decoder(OUTPUT_DICTSIZE,OUT_LEN,N_unit)"
   ]
  },
  {
   "cell_type": "code",
   "execution_count": 25,
   "metadata": {},
   "outputs": [],
   "source": [
    "decoder.load_weights('./data/gru_dec_test.h5')"
   ]
  },
  {
   "cell_type": "code",
   "execution_count": 26,
   "metadata": {},
   "outputs": [],
   "source": [
    "def onehot(sequence):\n",
    "    onehot = np.zeros((1,IN_LEN,INPUT_DICTSIZE),dtype='float32')\n",
    "    for i, e in enumerate(sequence):\n",
    "        onehot[0][i][e]=1\n",
    "        \n",
    "    return onehot"
   ]
  },
  {
   "cell_type": "code",
   "execution_count": 27,
   "metadata": {},
   "outputs": [],
   "source": [
    "def evaluate(sentence):\n",
    "    \n",
    "    encoder_inputs=[]\n",
    "    for char in sentence:\n",
    "        if char in input_dict:\n",
    "            encoder_inputs.append(input_dict[char])\n",
    "    encoder_inputs=onehot(encoder_inputs)\n",
    "        \n",
    "\n",
    "    encoder_inputs = tf.convert_to_tensor(encoder_inputs)\n",
    "    encoder_state=encoder(encoder_inputs)\n",
    "    hidden_state=encoder_state\n",
    "    \n",
    "    decoder_inputs=np.zeros((1,1,OUTPUT_DICTSIZE),dtype='float32')\n",
    "    decoder_inputs[0,0,target_dict['\\t']] = 1\n",
    "    \n",
    "    result=''\n",
    "    for t in range(OUT_LEN):\n",
    "        pred,state=decoder([decoder_inputs,hidden_state])\n",
    "        pred=np.squeeze(pred)\n",
    "        pred_ind=tf.math.argmax(pred).numpy()\n",
    "        \n",
    "        if target_dict_reverse[pred_ind]=='\\n':\n",
    "            return result\n",
    "\n",
    "        result+=target_dict_reverse[pred_ind]\n",
    "        decoder_inputs=np.zeros((1,1,OUTPUT_DICTSIZE),dtype='float32')\n",
    "        decoder_inputs[0,0,pred_ind] = 1\n",
    "        hidden_state=state\n",
    "    return result"
   ]
  },
  {
   "cell_type": "code",
   "execution_count": 28,
   "metadata": {},
   "outputs": [
    {
     "name": "stdin",
     "output_type": "stream",
     "text": [
      "User :>  我迷失了。\n"
     ]
    },
    {
     "name": "stdout",
     "output_type": "stream",
     "text": [
      "Bot :> I lost.\n"
     ]
    },
    {
     "name": "stdin",
     "output_type": "stream",
     "text": [
      "User :>  我们来试试。\n"
     ]
    },
    {
     "name": "stdout",
     "output_type": "stream",
     "text": [
      "Bot :> We try.\n"
     ]
    },
    {
     "name": "stdin",
     "output_type": "stream",
     "text": [
      "User :>  滾！\n"
     ]
    },
    {
     "name": "stdout",
     "output_type": "stream",
     "text": [
      "Bot :> Get away!\n"
     ]
    },
    {
     "name": "stdin",
     "output_type": "stream",
     "text": [
      "User :>  我是個英雄。\n"
     ]
    },
    {
     "name": "stdout",
     "output_type": "stream",
     "text": [
      "Bot :> I'm a hero.\n"
     ]
    },
    {
     "name": "stdin",
     "output_type": "stream",
     "text": [
      "User :>  噢，真的嗎?\n"
     ]
    },
    {
     "name": "stdout",
     "output_type": "stream",
     "text": [
      "Bot :> Oh, really?\n"
     ]
    },
    {
     "name": "stdin",
     "output_type": "stream",
     "text": [
      "User :>  時光飛逝。\n"
     ]
    },
    {
     "name": "stdout",
     "output_type": "stream",
     "text": [
      "Bot :> Time flies.\n"
     ]
    },
    {
     "name": "stdin",
     "output_type": "stream",
     "text": [
      "User :>  为什么我们应该要帮助？\n"
     ]
    },
    {
     "name": "stdout",
     "output_type": "stream",
     "text": [
      "Bot :> Why should I throw atreed?\n"
     ]
    },
    {
     "name": "stdin",
     "output_type": "stream",
     "text": [
      "User :>  他是个有教养的人。\n"
     ]
    },
    {
     "name": "stdout",
     "output_type": "stream",
     "text": [
      "Bot :> He is a learned man.\n"
     ]
    },
    {
     "name": "stdin",
     "output_type": "stream",
     "text": [
      "User :>  我想要聽聽你的意見。\n"
     ]
    },
    {
     "name": "stdout",
     "output_type": "stream",
     "text": [
      "Bot :> I want your opinion.\n"
     ]
    },
    {
     "name": "stdin",
     "output_type": "stream",
     "text": [
      "User :>  我想找女朋友。\n"
     ]
    },
    {
     "name": "stdout",
     "output_type": "stream",
     "text": [
      "Bot :> I want a few inda saud.\n"
     ]
    },
    {
     "name": "stdin",
     "output_type": "stream",
     "text": [
      "User :>  祝您有一個愉快的聖誕節。\n"
     ]
    },
    {
     "name": "stdout",
     "output_type": "stream",
     "text": [
      "Bot :> Have a good Christmas.\n"
     ]
    },
    {
     "name": "stdin",
     "output_type": "stream",
     "text": [
      "User :>  我應該把我要洗的衣服放在哪裡?\n"
     ]
    },
    {
     "name": "stdout",
     "output_type": "stream",
     "text": [
      "Bot :> Where should I like to go out?\n"
     ]
    },
    {
     "name": "stdin",
     "output_type": "stream",
     "text": [
      "User :>  第一次世界大戰於1914年爆發。\n"
     ]
    },
    {
     "name": "stdout",
     "output_type": "stream",
     "text": [
      "Bot :> Were late for London nawe?\n"
     ]
    },
    {
     "name": "stdin",
     "output_type": "stream",
     "text": [
      "User :>  quit\n"
     ]
    }
   ],
   "source": [
    "while True:\n",
    "    inputs = input('User :> ')\n",
    "    if inputs == 'quit':\n",
    "        break\n",
    "\n",
    "    result = evaluate(inputs)\n",
    "\n",
    "    print('Bot :> ' + result)"
   ]
  },
  {
   "cell_type": "code",
   "execution_count": null,
   "metadata": {},
   "outputs": [],
   "source": []
  }
 ],
 "metadata": {
  "kernelspec": {
   "display_name": "Python 3",
   "language": "python",
   "name": "python3"
  },
  "language_info": {
   "codemirror_mode": {
    "name": "ipython",
    "version": 3
   },
   "file_extension": ".py",
   "mimetype": "text/x-python",
   "name": "python",
   "nbconvert_exporter": "python",
   "pygments_lexer": "ipython3",
   "version": "3.5.3"
  }
 },
 "nbformat": 4,
 "nbformat_minor": 4
}
